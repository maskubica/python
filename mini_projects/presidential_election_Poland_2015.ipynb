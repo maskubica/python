{
  "nbformat": 4,
  "nbformat_minor": 0,
  "metadata": {
    "colab": {
      "name": "Untitled2.ipynb",
      "provenance": [],
      "authorship_tag": "ABX9TyOlfJ6R/XoXYBMfRwGGSjJl",
      "include_colab_link": true
    },
    "kernelspec": {
      "name": "python3",
      "display_name": "Python 3"
    }
  },
  "cells": [
    {
      "cell_type": "markdown",
      "metadata": {
        "id": "view-in-github",
        "colab_type": "text"
      },
      "source": [
        "<a href=\"https://colab.research.google.com/github/maskubica/python/blob/master/mini_projects/presidential_election_Poland_2015.ipynb\" target=\"_parent\"><img src=\"https://colab.research.google.com/assets/colab-badge.svg\" alt=\"Open In Colab\"/></a>"
      ]
    },
    {
      "cell_type": "code",
      "metadata": {
        "id": "3N4UReYVWHmE",
        "colab_type": "code",
        "colab": {}
      },
      "source": [
        "import numpy as np\n",
        "import pandas as pd"
      ],
      "execution_count": 1,
      "outputs": []
    },
    {
      "cell_type": "code",
      "metadata": {
        "id": "YdA5M_fPbzq1",
        "colab_type": "code",
        "colab": {
          "base_uri": "https://localhost:8080/",
          "height": 34
        },
        "outputId": "05f71fe9-4b24-42ca-f6a1-56a0ca349473"
      },
      "source": [
        "!git clone https://github.com/maskubica/python.git\n"
      ],
      "execution_count": 2,
      "outputs": [
        {
          "output_type": "stream",
          "text": [
            "fatal: destination path 'python' already exists and is not an empty directory.\n"
          ],
          "name": "stdout"
        }
      ]
    },
    {
      "cell_type": "code",
      "metadata": {
        "id": "682GK3Cmvmns",
        "colab_type": "code",
        "colab": {
          "base_uri": "https://localhost:8080/",
          "height": 510
        },
        "outputId": "c3b77954-df38-4875-ba82-f414f70635b8"
      },
      "source": [
        "\n",
        "\n",
        "data = pd.read_csv('https://github.com/maskubica/python/blob/master/Datasets/prezydent_2015_tura1_quotes.csv', sep=\";\")\n"
      ],
      "execution_count": 4,
      "outputs": [
        {
          "output_type": "error",
          "ename": "ParserError",
          "evalue": "ignored",
          "traceback": [
            "\u001b[0;31m---------------------------------------------------------------------------\u001b[0m",
            "\u001b[0;31mParserError\u001b[0m                               Traceback (most recent call last)",
            "\u001b[0;32m<ipython-input-4-ee7b0e3d432d>\u001b[0m in \u001b[0;36m<module>\u001b[0;34m()\u001b[0m\n\u001b[1;32m      1\u001b[0m \u001b[0;34m\u001b[0m\u001b[0m\n\u001b[1;32m      2\u001b[0m \u001b[0;34m\u001b[0m\u001b[0m\n\u001b[0;32m----> 3\u001b[0;31m \u001b[0mdata\u001b[0m \u001b[0;34m=\u001b[0m \u001b[0mpd\u001b[0m\u001b[0;34m.\u001b[0m\u001b[0mread_csv\u001b[0m\u001b[0;34m(\u001b[0m\u001b[0;34m'https://github.com/maskubica/python/blob/master/Datasets/prezydent_2015_tura1_quotes.csv'\u001b[0m\u001b[0;34m,\u001b[0m \u001b[0msep\u001b[0m\u001b[0;34m=\u001b[0m\u001b[0;34m\";\"\u001b[0m\u001b[0;34m)\u001b[0m\u001b[0;34m\u001b[0m\u001b[0;34m\u001b[0m\u001b[0m\n\u001b[0m",
            "\u001b[0;32m/usr/local/lib/python3.6/dist-packages/pandas/io/parsers.py\u001b[0m in \u001b[0;36mparser_f\u001b[0;34m(filepath_or_buffer, sep, delimiter, header, names, index_col, usecols, squeeze, prefix, mangle_dupe_cols, dtype, engine, converters, true_values, false_values, skipinitialspace, skiprows, skipfooter, nrows, na_values, keep_default_na, na_filter, verbose, skip_blank_lines, parse_dates, infer_datetime_format, keep_date_col, date_parser, dayfirst, cache_dates, iterator, chunksize, compression, thousands, decimal, lineterminator, quotechar, quoting, doublequote, escapechar, comment, encoding, dialect, error_bad_lines, warn_bad_lines, delim_whitespace, low_memory, memory_map, float_precision)\u001b[0m\n\u001b[1;32m    674\u001b[0m         )\n\u001b[1;32m    675\u001b[0m \u001b[0;34m\u001b[0m\u001b[0m\n\u001b[0;32m--> 676\u001b[0;31m         \u001b[0;32mreturn\u001b[0m \u001b[0m_read\u001b[0m\u001b[0;34m(\u001b[0m\u001b[0mfilepath_or_buffer\u001b[0m\u001b[0;34m,\u001b[0m \u001b[0mkwds\u001b[0m\u001b[0;34m)\u001b[0m\u001b[0;34m\u001b[0m\u001b[0;34m\u001b[0m\u001b[0m\n\u001b[0m\u001b[1;32m    677\u001b[0m \u001b[0;34m\u001b[0m\u001b[0m\n\u001b[1;32m    678\u001b[0m     \u001b[0mparser_f\u001b[0m\u001b[0;34m.\u001b[0m\u001b[0m__name__\u001b[0m \u001b[0;34m=\u001b[0m \u001b[0mname\u001b[0m\u001b[0;34m\u001b[0m\u001b[0;34m\u001b[0m\u001b[0m\n",
            "\u001b[0;32m/usr/local/lib/python3.6/dist-packages/pandas/io/parsers.py\u001b[0m in \u001b[0;36m_read\u001b[0;34m(filepath_or_buffer, kwds)\u001b[0m\n\u001b[1;32m    452\u001b[0m \u001b[0;34m\u001b[0m\u001b[0m\n\u001b[1;32m    453\u001b[0m     \u001b[0;32mtry\u001b[0m\u001b[0;34m:\u001b[0m\u001b[0;34m\u001b[0m\u001b[0;34m\u001b[0m\u001b[0m\n\u001b[0;32m--> 454\u001b[0;31m         \u001b[0mdata\u001b[0m \u001b[0;34m=\u001b[0m \u001b[0mparser\u001b[0m\u001b[0;34m.\u001b[0m\u001b[0mread\u001b[0m\u001b[0;34m(\u001b[0m\u001b[0mnrows\u001b[0m\u001b[0;34m)\u001b[0m\u001b[0;34m\u001b[0m\u001b[0;34m\u001b[0m\u001b[0m\n\u001b[0m\u001b[1;32m    455\u001b[0m     \u001b[0;32mfinally\u001b[0m\u001b[0;34m:\u001b[0m\u001b[0;34m\u001b[0m\u001b[0;34m\u001b[0m\u001b[0m\n\u001b[1;32m    456\u001b[0m         \u001b[0mparser\u001b[0m\u001b[0;34m.\u001b[0m\u001b[0mclose\u001b[0m\u001b[0;34m(\u001b[0m\u001b[0;34m)\u001b[0m\u001b[0;34m\u001b[0m\u001b[0;34m\u001b[0m\u001b[0m\n",
            "\u001b[0;32m/usr/local/lib/python3.6/dist-packages/pandas/io/parsers.py\u001b[0m in \u001b[0;36mread\u001b[0;34m(self, nrows)\u001b[0m\n\u001b[1;32m   1131\u001b[0m     \u001b[0;32mdef\u001b[0m \u001b[0mread\u001b[0m\u001b[0;34m(\u001b[0m\u001b[0mself\u001b[0m\u001b[0;34m,\u001b[0m \u001b[0mnrows\u001b[0m\u001b[0;34m=\u001b[0m\u001b[0;32mNone\u001b[0m\u001b[0;34m)\u001b[0m\u001b[0;34m:\u001b[0m\u001b[0;34m\u001b[0m\u001b[0;34m\u001b[0m\u001b[0m\n\u001b[1;32m   1132\u001b[0m         \u001b[0mnrows\u001b[0m \u001b[0;34m=\u001b[0m \u001b[0m_validate_integer\u001b[0m\u001b[0;34m(\u001b[0m\u001b[0;34m\"nrows\"\u001b[0m\u001b[0;34m,\u001b[0m \u001b[0mnrows\u001b[0m\u001b[0;34m)\u001b[0m\u001b[0;34m\u001b[0m\u001b[0;34m\u001b[0m\u001b[0m\n\u001b[0;32m-> 1133\u001b[0;31m         \u001b[0mret\u001b[0m \u001b[0;34m=\u001b[0m \u001b[0mself\u001b[0m\u001b[0;34m.\u001b[0m\u001b[0m_engine\u001b[0m\u001b[0;34m.\u001b[0m\u001b[0mread\u001b[0m\u001b[0;34m(\u001b[0m\u001b[0mnrows\u001b[0m\u001b[0;34m)\u001b[0m\u001b[0;34m\u001b[0m\u001b[0;34m\u001b[0m\u001b[0m\n\u001b[0m\u001b[1;32m   1134\u001b[0m \u001b[0;34m\u001b[0m\u001b[0m\n\u001b[1;32m   1135\u001b[0m         \u001b[0;31m# May alter columns / col_dict\u001b[0m\u001b[0;34m\u001b[0m\u001b[0;34m\u001b[0m\u001b[0;34m\u001b[0m\u001b[0m\n",
            "\u001b[0;32m/usr/local/lib/python3.6/dist-packages/pandas/io/parsers.py\u001b[0m in \u001b[0;36mread\u001b[0;34m(self, nrows)\u001b[0m\n\u001b[1;32m   2035\u001b[0m     \u001b[0;32mdef\u001b[0m \u001b[0mread\u001b[0m\u001b[0;34m(\u001b[0m\u001b[0mself\u001b[0m\u001b[0;34m,\u001b[0m \u001b[0mnrows\u001b[0m\u001b[0;34m=\u001b[0m\u001b[0;32mNone\u001b[0m\u001b[0;34m)\u001b[0m\u001b[0;34m:\u001b[0m\u001b[0;34m\u001b[0m\u001b[0;34m\u001b[0m\u001b[0m\n\u001b[1;32m   2036\u001b[0m         \u001b[0;32mtry\u001b[0m\u001b[0;34m:\u001b[0m\u001b[0;34m\u001b[0m\u001b[0;34m\u001b[0m\u001b[0m\n\u001b[0;32m-> 2037\u001b[0;31m             \u001b[0mdata\u001b[0m \u001b[0;34m=\u001b[0m \u001b[0mself\u001b[0m\u001b[0;34m.\u001b[0m\u001b[0m_reader\u001b[0m\u001b[0;34m.\u001b[0m\u001b[0mread\u001b[0m\u001b[0;34m(\u001b[0m\u001b[0mnrows\u001b[0m\u001b[0;34m)\u001b[0m\u001b[0;34m\u001b[0m\u001b[0;34m\u001b[0m\u001b[0m\n\u001b[0m\u001b[1;32m   2038\u001b[0m         \u001b[0;32mexcept\u001b[0m \u001b[0mStopIteration\u001b[0m\u001b[0;34m:\u001b[0m\u001b[0;34m\u001b[0m\u001b[0;34m\u001b[0m\u001b[0m\n\u001b[1;32m   2039\u001b[0m             \u001b[0;32mif\u001b[0m \u001b[0mself\u001b[0m\u001b[0;34m.\u001b[0m\u001b[0m_first_chunk\u001b[0m\u001b[0;34m:\u001b[0m\u001b[0;34m\u001b[0m\u001b[0;34m\u001b[0m\u001b[0m\n",
            "\u001b[0;32mpandas/_libs/parsers.pyx\u001b[0m in \u001b[0;36mpandas._libs.parsers.TextReader.read\u001b[0;34m()\u001b[0m\n",
            "\u001b[0;32mpandas/_libs/parsers.pyx\u001b[0m in \u001b[0;36mpandas._libs.parsers.TextReader._read_low_memory\u001b[0;34m()\u001b[0m\n",
            "\u001b[0;32mpandas/_libs/parsers.pyx\u001b[0m in \u001b[0;36mpandas._libs.parsers.TextReader._read_rows\u001b[0;34m()\u001b[0m\n",
            "\u001b[0;32mpandas/_libs/parsers.pyx\u001b[0m in \u001b[0;36mpandas._libs.parsers.TextReader._tokenize_rows\u001b[0;34m()\u001b[0m\n",
            "\u001b[0;32mpandas/_libs/parsers.pyx\u001b[0m in \u001b[0;36mpandas._libs.parsers.raise_parser_error\u001b[0;34m()\u001b[0m\n",
            "\u001b[0;31mParserError\u001b[0m: Error tokenizing data. C error: Expected 1 fields in line 38, saw 2\n"
          ]
        }
      ]
    },
    {
      "cell_type": "code",
      "metadata": {
        "id": "bgPcmccL5c0T",
        "colab_type": "code",
        "colab": {
          "base_uri": "https://localhost:8080/",
          "height": 204
        },
        "outputId": "2b0026fa-7aa8-41d0-cd6c-01f4f2cb1587"
      },
      "source": [
        "!wget \"https://prezydent2015.pkw.gov.pl/prezydent_2015_tura1.zip\""
      ],
      "execution_count": 2,
      "outputs": [
        {
          "output_type": "stream",
          "text": [
            "--2020-06-29 21:06:59--  https://prezydent2015.pkw.gov.pl/prezydent_2015_tura1.zip\n",
            "Resolving prezydent2015.pkw.gov.pl (prezydent2015.pkw.gov.pl)... 193.219.114.9\n",
            "Connecting to prezydent2015.pkw.gov.pl (prezydent2015.pkw.gov.pl)|193.219.114.9|:443... connected.\n",
            "HTTP request sent, awaiting response... 200 OK\n",
            "Length: 3664617 (3.5M) [application/zip]\n",
            "Saving to: ‘prezydent_2015_tura1.zip.1’\n",
            "\n",
            "prezydent_2015_tura 100%[===================>]   3.49M  1.46MB/s    in 2.4s    \n",
            "\n",
            "2020-06-29 21:07:02 (1.46 MB/s) - ‘prezydent_2015_tura1.zip.1’ saved [3664617/3664617]\n",
            "\n"
          ],
          "name": "stdout"
        }
      ]
    },
    {
      "cell_type": "code",
      "metadata": {
        "id": "2evXwM9V5seU",
        "colab_type": "code",
        "colab": {
          "base_uri": "https://localhost:8080/",
          "height": 119
        },
        "outputId": "f50a2a62-59fa-4499-b03a-c4be4def5104"
      },
      "source": [
        "!unzip prezydent_2015_tura1.zip"
      ],
      "execution_count": 3,
      "outputs": [
        {
          "output_type": "stream",
          "text": [
            "Archive:  prezydent_2015_tura1.zip\n",
            "  inflating: prezydent_2015_tura1.csv  \n",
            "   creating: __MACOSX/\n",
            "  inflating: __MACOSX/._prezydent_2015_tura1.csv  \n",
            "  inflating: wyniki_tura1-1.xls      \n",
            "  inflating: __MACOSX/._wyniki_tura1-1.xls  \n"
          ],
          "name": "stdout"
        }
      ]
    },
    {
      "cell_type": "code",
      "metadata": {
        "id": "mByB8gK657sL",
        "colab_type": "code",
        "colab": {
          "base_uri": "https://localhost:8080/",
          "height": 68
        },
        "outputId": "e36465ac-c134-4cf0-c3ec-fa8ea7fd5937"
      },
      "source": [
        "!ls"
      ],
      "execution_count": 11,
      "outputs": [
        {
          "output_type": "stream",
          "text": [
            "__MACOSX\t\t  prezydent_2015_tura1.zip.1  wyniki_tura1-1.xls\n",
            "prezydent_2015_tura1.csv  python\n",
            "prezydent_2015_tura1.zip  sample_data\n"
          ],
          "name": "stdout"
        }
      ]
    },
    {
      "cell_type": "code",
      "metadata": {
        "id": "rTqlkm9d6Bv6",
        "colab_type": "code",
        "colab": {}
      },
      "source": [
        "data = pd.read_excel('wyniki_tura1-1.xls')\n",
        "\n",
        "#data = pd.read_csv('prezydent_2015_tura1.csv', sep=\";\", quoting=3, skiprows=[0,1])"
      ],
      "execution_count": 12,
      "outputs": []
    },
    {
      "cell_type": "code",
      "metadata": {
        "id": "yzJ5tZODv6RA",
        "colab_type": "code",
        "colab": {
          "base_uri": "https://localhost:8080/",
          "height": 649
        },
        "outputId": "b6604724-044c-4f1a-8503-51350ea029ce"
      },
      "source": [
        "data.head()"
      ],
      "execution_count": 14,
      "outputs": [
        {
          "output_type": "execute_result",
          "data": {
            "text/html": [
              "<div>\n",
              "<style scoped>\n",
              "    .dataframe tbody tr th:only-of-type {\n",
              "        vertical-align: middle;\n",
              "    }\n",
              "\n",
              "    .dataframe tbody tr th {\n",
              "        vertical-align: top;\n",
              "    }\n",
              "\n",
              "    .dataframe thead th {\n",
              "        text-align: right;\n",
              "    }\n",
              "</style>\n",
              "<table border=\"1\" class=\"dataframe\">\n",
              "  <thead>\n",
              "    <tr style=\"text-align: right;\">\n",
              "      <th></th>\n",
              "      <th>Województwo</th>\n",
              "      <th>Gmina</th>\n",
              "      <th>TERYT gminy</th>\n",
              "      <th>Numer obwodu</th>\n",
              "      <th>Siedziba</th>\n",
              "      <th>Głosowanie rozpoczęło się w dniu</th>\n",
              "      <th>i trwało do godz</th>\n",
              "      <th>Liczba wyborców uprawnionych do głosowania</th>\n",
              "      <th>Komisja otrzymała kart do głosowania</th>\n",
              "      <th>Nie wykorzystano kart do głosowania</th>\n",
              "      <th>Liczba wyborców, którym wydano karty do głosowania</th>\n",
              "      <th>Liczba wyborców głosujących przez pełnomocnika</th>\n",
              "      <th>Liczba wyborców głosujących na podstawie zaświadczenia</th>\n",
              "      <th>Liczba wyborców, którym wysłano pakiety wyborcze</th>\n",
              "      <th>Liczba otrzymanych kopert zwrotnych</th>\n",
              "      <th>w których nie było oświadczenia</th>\n",
              "      <th>w których oświadczenie nie było podpisane</th>\n",
              "      <th>w których nie było koperty na kartę do głosowania</th>\n",
              "      <th>w których znajdowała się niezaklejona koperta</th>\n",
              "      <th>Liczba kopert na kartę do głosowania wrzuconych do urny</th>\n",
              "      <th>Liczba kart wyjętych z urny</th>\n",
              "      <th>w tym liczba kart wyjętych z kopert</th>\n",
              "      <th>Liczba kart nieważnych</th>\n",
              "      <th>Liczba kart ważnych</th>\n",
              "      <th>Liczba głosów nieważnych</th>\n",
              "      <th>Liczba głosów ważnych</th>\n",
              "      <th>RAZEM</th>\n",
              "      <th>Grzegorz Michał Braun</th>\n",
              "      <th>Andrzej Sebastian Duda</th>\n",
              "      <th>Adam Sebastian Jarubas</th>\n",
              "      <th>Bronisław Maria Komorowski</th>\n",
              "      <th>Janusz Ryszard Korwin-Mikke</th>\n",
              "      <th>Marian Janusz Kowalski</th>\n",
              "      <th>Paweł Piotr Kukiz</th>\n",
              "      <th>Magdalena Agnieszka Ogórek</th>\n",
              "      <th>Janusz Marian Palikot</th>\n",
              "      <th>Paweł Jan Tanajno</th>\n",
              "      <th>Jacek Wilk</th>\n",
              "    </tr>\n",
              "  </thead>\n",
              "  <tbody>\n",
              "    <tr>\n",
              "      <th>0</th>\n",
              "      <td>dolnośląskie</td>\n",
              "      <td>m. Bolesławiec</td>\n",
              "      <td>0</td>\n",
              "      <td>1</td>\n",
              "      <td>Miejskie Przedszkole Publiczne Nr 3, ul. Ceram...</td>\n",
              "      <td>10.05.2015 07:00:00</td>\n",
              "      <td>21:00:00</td>\n",
              "      <td>1542</td>\n",
              "      <td>1300</td>\n",
              "      <td>632</td>\n",
              "      <td>668</td>\n",
              "      <td>0</td>\n",
              "      <td>1</td>\n",
              "      <td>0</td>\n",
              "      <td>0</td>\n",
              "      <td>0</td>\n",
              "      <td>0</td>\n",
              "      <td>0</td>\n",
              "      <td>0</td>\n",
              "      <td>0</td>\n",
              "      <td>668</td>\n",
              "      <td>0</td>\n",
              "      <td>0</td>\n",
              "      <td>668</td>\n",
              "      <td>1</td>\n",
              "      <td>667</td>\n",
              "      <td>667</td>\n",
              "      <td>11</td>\n",
              "      <td>212</td>\n",
              "      <td>9</td>\n",
              "      <td>215</td>\n",
              "      <td>27</td>\n",
              "      <td>2</td>\n",
              "      <td>163</td>\n",
              "      <td>14</td>\n",
              "      <td>11</td>\n",
              "      <td>0</td>\n",
              "      <td>3</td>\n",
              "    </tr>\n",
              "    <tr>\n",
              "      <th>1</th>\n",
              "      <td>dolnośląskie</td>\n",
              "      <td>m. Bolesławiec</td>\n",
              "      <td>0</td>\n",
              "      <td>2</td>\n",
              "      <td>Szkoła Podstawowa Nr 3, ul. Ceramiczna 5, 59-7...</td>\n",
              "      <td>10.05.2015 07:00:00</td>\n",
              "      <td>21:00:00</td>\n",
              "      <td>1369</td>\n",
              "      <td>1200</td>\n",
              "      <td>467</td>\n",
              "      <td>733</td>\n",
              "      <td>0</td>\n",
              "      <td>0</td>\n",
              "      <td>0</td>\n",
              "      <td>0</td>\n",
              "      <td>0</td>\n",
              "      <td>0</td>\n",
              "      <td>0</td>\n",
              "      <td>0</td>\n",
              "      <td>0</td>\n",
              "      <td>733</td>\n",
              "      <td>0</td>\n",
              "      <td>0</td>\n",
              "      <td>733</td>\n",
              "      <td>5</td>\n",
              "      <td>728</td>\n",
              "      <td>728</td>\n",
              "      <td>7</td>\n",
              "      <td>203</td>\n",
              "      <td>7</td>\n",
              "      <td>250</td>\n",
              "      <td>24</td>\n",
              "      <td>5</td>\n",
              "      <td>196</td>\n",
              "      <td>23</td>\n",
              "      <td>10</td>\n",
              "      <td>0</td>\n",
              "      <td>3</td>\n",
              "    </tr>\n",
              "    <tr>\n",
              "      <th>2</th>\n",
              "      <td>dolnośląskie</td>\n",
              "      <td>m. Bolesławiec</td>\n",
              "      <td>0</td>\n",
              "      <td>3</td>\n",
              "      <td>Miejski Zespół Szkół Nr 1, ul. Dolne Młyny 60,...</td>\n",
              "      <td>10.05.2015 07:00:00</td>\n",
              "      <td>21:00:00</td>\n",
              "      <td>1510</td>\n",
              "      <td>1300</td>\n",
              "      <td>551</td>\n",
              "      <td>749</td>\n",
              "      <td>0</td>\n",
              "      <td>4</td>\n",
              "      <td>1</td>\n",
              "      <td>1</td>\n",
              "      <td>0</td>\n",
              "      <td>0</td>\n",
              "      <td>0</td>\n",
              "      <td>0</td>\n",
              "      <td>1</td>\n",
              "      <td>750</td>\n",
              "      <td>1</td>\n",
              "      <td>0</td>\n",
              "      <td>750</td>\n",
              "      <td>8</td>\n",
              "      <td>742</td>\n",
              "      <td>742</td>\n",
              "      <td>13</td>\n",
              "      <td>199</td>\n",
              "      <td>7</td>\n",
              "      <td>251</td>\n",
              "      <td>26</td>\n",
              "      <td>3</td>\n",
              "      <td>212</td>\n",
              "      <td>21</td>\n",
              "      <td>5</td>\n",
              "      <td>2</td>\n",
              "      <td>3</td>\n",
              "    </tr>\n",
              "    <tr>\n",
              "      <th>3</th>\n",
              "      <td>dolnośląskie</td>\n",
              "      <td>m. Bolesławiec</td>\n",
              "      <td>0</td>\n",
              "      <td>4</td>\n",
              "      <td>Miejski Zespół Szkół Nr 1, ul. Dolne Młyny 60,...</td>\n",
              "      <td>10.05.2015 07:00:00</td>\n",
              "      <td>21:00:00</td>\n",
              "      <td>1523</td>\n",
              "      <td>1302</td>\n",
              "      <td>521</td>\n",
              "      <td>781</td>\n",
              "      <td>0</td>\n",
              "      <td>1</td>\n",
              "      <td>0</td>\n",
              "      <td>0</td>\n",
              "      <td>0</td>\n",
              "      <td>0</td>\n",
              "      <td>0</td>\n",
              "      <td>0</td>\n",
              "      <td>0</td>\n",
              "      <td>781</td>\n",
              "      <td>0</td>\n",
              "      <td>0</td>\n",
              "      <td>781</td>\n",
              "      <td>8</td>\n",
              "      <td>773</td>\n",
              "      <td>773</td>\n",
              "      <td>8</td>\n",
              "      <td>209</td>\n",
              "      <td>3</td>\n",
              "      <td>303</td>\n",
              "      <td>33</td>\n",
              "      <td>6</td>\n",
              "      <td>186</td>\n",
              "      <td>17</td>\n",
              "      <td>6</td>\n",
              "      <td>0</td>\n",
              "      <td>2</td>\n",
              "    </tr>\n",
              "    <tr>\n",
              "      <th>4</th>\n",
              "      <td>dolnośląskie</td>\n",
              "      <td>m. Bolesławiec</td>\n",
              "      <td>0</td>\n",
              "      <td>5</td>\n",
              "      <td>Miejski Zespół Szkół Nr 1, ul. Dolne Młyny 60,...</td>\n",
              "      <td>10.05.2015 07:00:00</td>\n",
              "      <td>21:00:00</td>\n",
              "      <td>1492</td>\n",
              "      <td>1298</td>\n",
              "      <td>588</td>\n",
              "      <td>710</td>\n",
              "      <td>0</td>\n",
              "      <td>4</td>\n",
              "      <td>0</td>\n",
              "      <td>0</td>\n",
              "      <td>0</td>\n",
              "      <td>0</td>\n",
              "      <td>0</td>\n",
              "      <td>0</td>\n",
              "      <td>0</td>\n",
              "      <td>708</td>\n",
              "      <td>0</td>\n",
              "      <td>1</td>\n",
              "      <td>707</td>\n",
              "      <td>6</td>\n",
              "      <td>701</td>\n",
              "      <td>701</td>\n",
              "      <td>6</td>\n",
              "      <td>192</td>\n",
              "      <td>5</td>\n",
              "      <td>278</td>\n",
              "      <td>28</td>\n",
              "      <td>6</td>\n",
              "      <td>146</td>\n",
              "      <td>23</td>\n",
              "      <td>12</td>\n",
              "      <td>2</td>\n",
              "      <td>3</td>\n",
              "    </tr>\n",
              "  </tbody>\n",
              "</table>\n",
              "</div>"
            ],
            "text/plain": [
              "    Województwo           Gmina  ...  Paweł Jan Tanajno  Jacek Wilk\n",
              "0  dolnośląskie  m. Bolesławiec  ...                  0           3\n",
              "1  dolnośląskie  m. Bolesławiec  ...                  0           3\n",
              "2  dolnośląskie  m. Bolesławiec  ...                  2           3\n",
              "3  dolnośląskie  m. Bolesławiec  ...                  0           2\n",
              "4  dolnośląskie  m. Bolesławiec  ...                  2           3\n",
              "\n",
              "[5 rows x 38 columns]"
            ]
          },
          "metadata": {
            "tags": []
          },
          "execution_count": 14
        }
      ]
    }
  ]
}