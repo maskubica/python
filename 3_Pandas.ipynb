{
  "nbformat": 4,
  "nbformat_minor": 0,
  "metadata": {
    "colab": {
      "name": "3.Pandas.ipynb",
      "provenance": [],
      "authorship_tag": "ABX9TyNvh7ExBCNxxsigV1yy7bVM",
      "include_colab_link": true
    },
    "kernelspec": {
      "name": "python3",
      "display_name": "Python 3"
    }
  },
  "cells": [
    {
      "cell_type": "markdown",
      "metadata": {
        "id": "view-in-github",
        "colab_type": "text"
      },
      "source": [
        "<a href=\"https://colab.research.google.com/github/maskubica/python/blob/master/3_Pandas.ipynb\" target=\"_parent\"><img src=\"https://colab.research.google.com/assets/colab-badge.svg\" alt=\"Open In Colab\"/></a>"
      ]
    },
    {
      "cell_type": "code",
      "metadata": {
        "id": "sMUm-FOFhWc5",
        "colab_type": "code",
        "colab": {}
      },
      "source": [
        "import pandas as pd"
      ],
      "execution_count": 22,
      "outputs": []
    },
    {
      "cell_type": "markdown",
      "metadata": {
        "id": "YMl3psMDMySy",
        "colab_type": "text"
      },
      "source": [
        "# 0. Introduction\n"
      ]
    },
    {
      "cell_type": "markdown",
      "metadata": {
        "id": "gcrU33UsM4hb",
        "colab_type": "text"
      },
      "source": [
        "### DataFrame\n",
        "\n",
        "DataFrame is one of the basic data type in pandas. Basically it is table. \n",
        "\n"
      ]
    },
    {
      "cell_type": "code",
      "metadata": {
        "id": "-bf1EqaJM1BL",
        "colab_type": "code",
        "colab": {
          "base_uri": "https://localhost:8080/",
          "height": 111
        },
        "outputId": "6962801e-0ab0-4549-8be4-3550b80f3007"
      },
      "source": [
        "# you can create DataFrame from dictionary\n",
        "pd.DataFrame({'Key1': [0, 1], 'Key2': [2, 3]})"
      ],
      "execution_count": 35,
      "outputs": [
        {
          "output_type": "execute_result",
          "data": {
            "text/html": [
              "<div>\n",
              "<style scoped>\n",
              "    .dataframe tbody tr th:only-of-type {\n",
              "        vertical-align: middle;\n",
              "    }\n",
              "\n",
              "    .dataframe tbody tr th {\n",
              "        vertical-align: top;\n",
              "    }\n",
              "\n",
              "    .dataframe thead th {\n",
              "        text-align: right;\n",
              "    }\n",
              "</style>\n",
              "<table border=\"1\" class=\"dataframe\">\n",
              "  <thead>\n",
              "    <tr style=\"text-align: right;\">\n",
              "      <th></th>\n",
              "      <th>Key1</th>\n",
              "      <th>Key2</th>\n",
              "    </tr>\n",
              "  </thead>\n",
              "  <tbody>\n",
              "    <tr>\n",
              "      <th>0</th>\n",
              "      <td>0</td>\n",
              "      <td>2</td>\n",
              "    </tr>\n",
              "    <tr>\n",
              "      <th>1</th>\n",
              "      <td>1</td>\n",
              "      <td>3</td>\n",
              "    </tr>\n",
              "  </tbody>\n",
              "</table>\n",
              "</div>"
            ],
            "text/plain": [
              "   Key1  Key2\n",
              "0     0     2\n",
              "1     1     3"
            ]
          },
          "metadata": {
            "tags": []
          },
          "execution_count": 35
        }
      ]
    },
    {
      "cell_type": "code",
      "metadata": {
        "id": "JycFGwgiNz7w",
        "colab_type": "code",
        "colab": {
          "base_uri": "https://localhost:8080/",
          "height": 111
        },
        "outputId": "7bcd9eca-1f7d-4548-b1c3-67293860e46d"
      },
      "source": [
        "# or from a lists\n",
        "pd.DataFrame([[1,1,1,1], [2,2,2,2]], columns=['col1','col2','col3', 'col4'])"
      ],
      "execution_count": 48,
      "outputs": [
        {
          "output_type": "execute_result",
          "data": {
            "text/html": [
              "<div>\n",
              "<style scoped>\n",
              "    .dataframe tbody tr th:only-of-type {\n",
              "        vertical-align: middle;\n",
              "    }\n",
              "\n",
              "    .dataframe tbody tr th {\n",
              "        vertical-align: top;\n",
              "    }\n",
              "\n",
              "    .dataframe thead th {\n",
              "        text-align: right;\n",
              "    }\n",
              "</style>\n",
              "<table border=\"1\" class=\"dataframe\">\n",
              "  <thead>\n",
              "    <tr style=\"text-align: right;\">\n",
              "      <th></th>\n",
              "      <th>col1</th>\n",
              "      <th>col2</th>\n",
              "      <th>col3</th>\n",
              "      <th>col4</th>\n",
              "    </tr>\n",
              "  </thead>\n",
              "  <tbody>\n",
              "    <tr>\n",
              "      <th>0</th>\n",
              "      <td>1</td>\n",
              "      <td>1</td>\n",
              "      <td>1</td>\n",
              "      <td>1</td>\n",
              "    </tr>\n",
              "    <tr>\n",
              "      <th>1</th>\n",
              "      <td>2</td>\n",
              "      <td>2</td>\n",
              "      <td>2</td>\n",
              "      <td>2</td>\n",
              "    </tr>\n",
              "  </tbody>\n",
              "</table>\n",
              "</div>"
            ],
            "text/plain": [
              "   col1  col2  col3  col4\n",
              "0     1     1     1     1\n",
              "1     2     2     2     2"
            ]
          },
          "metadata": {
            "tags": []
          },
          "execution_count": 48
        }
      ]
    },
    {
      "cell_type": "code",
      "metadata": {
        "id": "-5j3vdCDPBBt",
        "colab_type": "code",
        "colab": {
          "base_uri": "https://localhost:8080/",
          "height": 142
        },
        "outputId": "2efb1874-7af0-4094-ad23-1eae6ba5b2b3"
      },
      "source": [
        "# as well as from numpy arrays\n",
        "import numpy as np\n",
        "a = np.arange(0,5)\n",
        "\n",
        "pd.DataFrame([a,2*a, 3*a])"
      ],
      "execution_count": 54,
      "outputs": [
        {
          "output_type": "execute_result",
          "data": {
            "text/html": [
              "<div>\n",
              "<style scoped>\n",
              "    .dataframe tbody tr th:only-of-type {\n",
              "        vertical-align: middle;\n",
              "    }\n",
              "\n",
              "    .dataframe tbody tr th {\n",
              "        vertical-align: top;\n",
              "    }\n",
              "\n",
              "    .dataframe thead th {\n",
              "        text-align: right;\n",
              "    }\n",
              "</style>\n",
              "<table border=\"1\" class=\"dataframe\">\n",
              "  <thead>\n",
              "    <tr style=\"text-align: right;\">\n",
              "      <th></th>\n",
              "      <th>0</th>\n",
              "      <th>1</th>\n",
              "      <th>2</th>\n",
              "      <th>3</th>\n",
              "      <th>4</th>\n",
              "    </tr>\n",
              "  </thead>\n",
              "  <tbody>\n",
              "    <tr>\n",
              "      <th>0</th>\n",
              "      <td>0</td>\n",
              "      <td>1</td>\n",
              "      <td>2</td>\n",
              "      <td>3</td>\n",
              "      <td>4</td>\n",
              "    </tr>\n",
              "    <tr>\n",
              "      <th>1</th>\n",
              "      <td>0</td>\n",
              "      <td>2</td>\n",
              "      <td>4</td>\n",
              "      <td>6</td>\n",
              "      <td>8</td>\n",
              "    </tr>\n",
              "    <tr>\n",
              "      <th>2</th>\n",
              "      <td>0</td>\n",
              "      <td>3</td>\n",
              "      <td>6</td>\n",
              "      <td>9</td>\n",
              "      <td>12</td>\n",
              "    </tr>\n",
              "  </tbody>\n",
              "</table>\n",
              "</div>"
            ],
            "text/plain": [
              "   0  1  2  3   4\n",
              "0  0  1  2  3   4\n",
              "1  0  2  4  6   8\n",
              "2  0  3  6  9  12"
            ]
          },
          "metadata": {
            "tags": []
          },
          "execution_count": 54
        }
      ]
    },
    {
      "cell_type": "markdown",
      "metadata": {
        "id": "zPLUNKpFM6iZ",
        "colab_type": "text"
      },
      "source": [
        "### Series"
      ]
    },
    {
      "cell_type": "code",
      "metadata": {
        "id": "CJ_HRfqrPqRh",
        "colab_type": "code",
        "colab": {
          "base_uri": "https://localhost:8080/",
          "height": 85
        },
        "outputId": "e90cf532-246a-4f08-a0d1-1b4209ce3dbe"
      },
      "source": [
        "pd.Series([1, 2, 3], dtype=float)"
      ],
      "execution_count": 59,
      "outputs": [
        {
          "output_type": "execute_result",
          "data": {
            "text/plain": [
              "0    1.0\n",
              "1    2.0\n",
              "2    3.0\n",
              "dtype: float64"
            ]
          },
          "metadata": {
            "tags": []
          },
          "execution_count": 59
        }
      ]
    },
    {
      "cell_type": "markdown",
      "metadata": {
        "id": "cNy26jYIjL0R",
        "colab_type": "text"
      },
      "source": [
        "#1. Read data"
      ]
    },
    {
      "cell_type": "code",
      "metadata": {
        "id": "d6f6yuD_hk0c",
        "colab_type": "code",
        "colab": {
          "base_uri": "https://localhost:8080/",
          "height": 51
        },
        "outputId": "4efc905b-a907-4e21-83f2-e39e30fd3b09"
      },
      "source": [
        "from google.colab import drive\n",
        "\n",
        "# mount google drive\n",
        "drive.mount('/content/drive')\n",
        "\n",
        "# show directory content\n",
        "!ls drive/My\\ Drive/python_Mateusz/datasets"
      ],
      "execution_count": 60,
      "outputs": [
        {
          "output_type": "stream",
          "text": [
            "Drive already mounted at /content/drive; to attempt to forcibly remount, call drive.mount(\"/content/drive\", force_remount=True).\n",
            "creditcard.csv\n"
          ],
          "name": "stdout"
        }
      ]
    },
    {
      "cell_type": "code",
      "metadata": {
        "id": "41VHjGE5BqC6",
        "colab_type": "code",
        "colab": {}
      },
      "source": [
        "# read simple CSV\n",
        "\n",
        "df = pd.read_csv(\"drive/My Drive/python_Mateusz/datasets/creditcard.csv\")"
      ],
      "execution_count": 61,
      "outputs": []
    },
    {
      "cell_type": "code",
      "metadata": {
        "id": "b5jogdOMQReS",
        "colab_type": "code",
        "colab": {
          "base_uri": "https://localhost:8080/",
          "height": 34
        },
        "outputId": "27752702-c8e2-4589-9b1a-92548e4114e2"
      },
      "source": [
        "df.shape"
      ],
      "execution_count": 62,
      "outputs": [
        {
          "output_type": "execute_result",
          "data": {
            "text/plain": [
              "(284807, 31)"
            ]
          },
          "metadata": {
            "tags": []
          },
          "execution_count": 62
        }
      ]
    },
    {
      "cell_type": "code",
      "metadata": {
        "id": "gdSP8HYGMMxl",
        "colab_type": "code",
        "colab": {
          "base_uri": "https://localhost:8080/",
          "height": 162
        },
        "outputId": "384ce218-ae34-4ba8-de21-d1ac10f17624"
      },
      "source": [
        "df.groupby(['Class']).median()"
      ],
      "execution_count": 30,
      "outputs": [
        {
          "output_type": "execute_result",
          "data": {
            "text/html": [
              "<div>\n",
              "<style scoped>\n",
              "    .dataframe tbody tr th:only-of-type {\n",
              "        vertical-align: middle;\n",
              "    }\n",
              "\n",
              "    .dataframe tbody tr th {\n",
              "        vertical-align: top;\n",
              "    }\n",
              "\n",
              "    .dataframe thead th {\n",
              "        text-align: right;\n",
              "    }\n",
              "</style>\n",
              "<table border=\"1\" class=\"dataframe\">\n",
              "  <thead>\n",
              "    <tr style=\"text-align: right;\">\n",
              "      <th></th>\n",
              "      <th>Time</th>\n",
              "      <th>V1</th>\n",
              "      <th>V2</th>\n",
              "      <th>V3</th>\n",
              "      <th>V4</th>\n",
              "      <th>V5</th>\n",
              "      <th>V6</th>\n",
              "      <th>V7</th>\n",
              "      <th>V8</th>\n",
              "      <th>V9</th>\n",
              "      <th>V10</th>\n",
              "      <th>V11</th>\n",
              "      <th>V12</th>\n",
              "      <th>V13</th>\n",
              "      <th>V14</th>\n",
              "      <th>V15</th>\n",
              "      <th>V16</th>\n",
              "      <th>V17</th>\n",
              "      <th>V18</th>\n",
              "      <th>V19</th>\n",
              "      <th>V20</th>\n",
              "      <th>V21</th>\n",
              "      <th>V22</th>\n",
              "      <th>V23</th>\n",
              "      <th>V24</th>\n",
              "      <th>V25</th>\n",
              "      <th>V26</th>\n",
              "      <th>V27</th>\n",
              "      <th>V28</th>\n",
              "      <th>Amount</th>\n",
              "    </tr>\n",
              "    <tr>\n",
              "      <th>Class</th>\n",
              "      <th></th>\n",
              "      <th></th>\n",
              "      <th></th>\n",
              "      <th></th>\n",
              "      <th></th>\n",
              "      <th></th>\n",
              "      <th></th>\n",
              "      <th></th>\n",
              "      <th></th>\n",
              "      <th></th>\n",
              "      <th></th>\n",
              "      <th></th>\n",
              "      <th></th>\n",
              "      <th></th>\n",
              "      <th></th>\n",
              "      <th></th>\n",
              "      <th></th>\n",
              "      <th></th>\n",
              "      <th></th>\n",
              "      <th></th>\n",
              "      <th></th>\n",
              "      <th></th>\n",
              "      <th></th>\n",
              "      <th></th>\n",
              "      <th></th>\n",
              "      <th></th>\n",
              "      <th></th>\n",
              "      <th></th>\n",
              "      <th></th>\n",
              "      <th></th>\n",
              "    </tr>\n",
              "  </thead>\n",
              "  <tbody>\n",
              "    <tr>\n",
              "      <th>0</th>\n",
              "      <td>84711.0</td>\n",
              "      <td>0.020023</td>\n",
              "      <td>0.064070</td>\n",
              "      <td>0.182158</td>\n",
              "      <td>-0.022405</td>\n",
              "      <td>-0.053457</td>\n",
              "      <td>-0.273123</td>\n",
              "      <td>0.041138</td>\n",
              "      <td>0.022041</td>\n",
              "      <td>-0.049964</td>\n",
              "      <td>-0.091872</td>\n",
              "      <td>-0.034923</td>\n",
              "      <td>0.141679</td>\n",
              "      <td>-0.013547</td>\n",
              "      <td>0.051947</td>\n",
              "      <td>0.048294</td>\n",
              "      <td>0.067377</td>\n",
              "      <td>-0.064833</td>\n",
              "      <td>-0.002787</td>\n",
              "      <td>0.003117</td>\n",
              "      <td>-0.062646</td>\n",
              "      <td>-0.029821</td>\n",
              "      <td>0.006736</td>\n",
              "      <td>-0.011147</td>\n",
              "      <td>0.041082</td>\n",
              "      <td>0.016417</td>\n",
              "      <td>-0.052227</td>\n",
              "      <td>0.001230</td>\n",
              "      <td>0.011199</td>\n",
              "      <td>22.00</td>\n",
              "    </tr>\n",
              "    <tr>\n",
              "      <th>1</th>\n",
              "      <td>75568.5</td>\n",
              "      <td>-2.342497</td>\n",
              "      <td>2.717869</td>\n",
              "      <td>-5.075257</td>\n",
              "      <td>4.177147</td>\n",
              "      <td>-1.522962</td>\n",
              "      <td>-1.424616</td>\n",
              "      <td>-3.034402</td>\n",
              "      <td>0.621508</td>\n",
              "      <td>-2.208768</td>\n",
              "      <td>-4.578825</td>\n",
              "      <td>3.586218</td>\n",
              "      <td>-5.502530</td>\n",
              "      <td>-0.065566</td>\n",
              "      <td>-6.729720</td>\n",
              "      <td>-0.057227</td>\n",
              "      <td>-3.549795</td>\n",
              "      <td>-5.302949</td>\n",
              "      <td>-1.664346</td>\n",
              "      <td>0.646807</td>\n",
              "      <td>0.284693</td>\n",
              "      <td>0.592146</td>\n",
              "      <td>0.048434</td>\n",
              "      <td>-0.073135</td>\n",
              "      <td>-0.060795</td>\n",
              "      <td>0.088371</td>\n",
              "      <td>0.004321</td>\n",
              "      <td>0.394926</td>\n",
              "      <td>0.146344</td>\n",
              "      <td>9.25</td>\n",
              "    </tr>\n",
              "  </tbody>\n",
              "</table>\n",
              "</div>"
            ],
            "text/plain": [
              "          Time        V1        V2  ...       V27       V28  Amount\n",
              "Class                               ...                            \n",
              "0      84711.0  0.020023  0.064070  ...  0.001230  0.011199   22.00\n",
              "1      75568.5 -2.342497  2.717869  ...  0.394926  0.146344    9.25\n",
              "\n",
              "[2 rows x 30 columns]"
            ]
          },
          "metadata": {
            "tags": []
          },
          "execution_count": 30
        }
      ]
    }
  ]
}