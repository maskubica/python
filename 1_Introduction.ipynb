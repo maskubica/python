{
  "nbformat": 4,
  "nbformat_minor": 0,
  "metadata": {
    "colab": {
      "name": "1.Introduction.ipynb",
      "provenance": [],
      "toc_visible": true,
      "authorship_tag": "ABX9TyNxNFv03FAyh1YuS7yJOhQZ",
      "include_colab_link": true
    },
    "kernelspec": {
      "name": "python3",
      "display_name": "Python 3"
    }
  },
  "cells": [
    {
      "cell_type": "markdown",
      "metadata": {
        "id": "view-in-github",
        "colab_type": "text"
      },
      "source": [
        "<a href=\"https://colab.research.google.com/github/maskubica/python/blob/master/1_Introduction.ipynb\" target=\"_parent\"><img src=\"https://colab.research.google.com/assets/colab-badge.svg\" alt=\"Open In Colab\"/></a>"
      ]
    },
    {
      "cell_type": "markdown",
      "metadata": {
        "id": "wGdDTFLThZ0v",
        "colab_type": "text"
      },
      "source": [
        "\n",
        "# 1. Numpy"
      ]
    },
    {
      "cell_type": "code",
      "metadata": {
        "id": "52Vl1NI6hcm5",
        "colab_type": "code",
        "colab": {}
      },
      "source": [
        "import numpy as np"
      ],
      "execution_count": 1,
      "outputs": []
    },
    {
      "cell_type": "markdown",
      "metadata": {
        "id": "Ck4nbJKtiAvH",
        "colab_type": "text"
      },
      "source": [
        "### Defining vector\n"
      ]
    },
    {
      "cell_type": "code",
      "metadata": {
        "id": "WRbN89t_j0f4",
        "colab_type": "code",
        "colab": {
          "base_uri": "https://localhost:8080/",
          "height": 35
        },
        "outputId": "2dbfff68-8084-453a-90c6-a58aabc6cb06"
      },
      "source": [
        "np.array([0,1,2,3,4,5,6,7,8,9,10])"
      ],
      "execution_count": 2,
      "outputs": [
        {
          "output_type": "execute_result",
          "data": {
            "text/plain": [
              "array([ 0,  1,  2,  3,  4,  5,  6,  7,  8,  9, 10])"
            ]
          },
          "metadata": {
            "tags": []
          },
          "execution_count": 2
        }
      ]
    },
    {
      "cell_type": "code",
      "metadata": {
        "id": "IyyWHV7jj3N-",
        "colab_type": "code",
        "colab": {
          "base_uri": "https://localhost:8080/",
          "height": 35
        },
        "outputId": "bcc5b0f7-0d3b-46c5-ef3d-ab59e02489d8"
      },
      "source": [
        "np.zeros(10)"
      ],
      "execution_count": 3,
      "outputs": [
        {
          "output_type": "execute_result",
          "data": {
            "text/plain": [
              "array([0., 0., 0., 0., 0., 0., 0., 0., 0., 0.])"
            ]
          },
          "metadata": {
            "tags": []
          },
          "execution_count": 3
        }
      ]
    },
    {
      "cell_type": "code",
      "metadata": {
        "id": "xpKDo3K4h7lq",
        "colab_type": "code",
        "colab": {
          "base_uri": "https://localhost:8080/",
          "height": 35
        },
        "outputId": "1c5565ac-25c2-453a-ee9d-1c9e9c9ef314"
      },
      "source": [
        "np.arange(0,10,step=1)"
      ],
      "execution_count": 4,
      "outputs": [
        {
          "output_type": "execute_result",
          "data": {
            "text/plain": [
              "array([0, 1, 2, 3, 4, 5, 6, 7, 8, 9])"
            ]
          },
          "metadata": {
            "tags": []
          },
          "execution_count": 4
        }
      ]
    },
    {
      "cell_type": "code",
      "metadata": {
        "id": "99u7UMdzie9n",
        "colab_type": "code",
        "colab": {
          "base_uri": "https://localhost:8080/",
          "height": 90
        },
        "outputId": "591ce2f6-a3e5-47b3-b78d-1931f659bbfe"
      },
      "source": [
        "np.linspace(1,10,20)"
      ],
      "execution_count": 5,
      "outputs": [
        {
          "output_type": "execute_result",
          "data": {
            "text/plain": [
              "array([ 1.        ,  1.47368421,  1.94736842,  2.42105263,  2.89473684,\n",
              "        3.36842105,  3.84210526,  4.31578947,  4.78947368,  5.26315789,\n",
              "        5.73684211,  6.21052632,  6.68421053,  7.15789474,  7.63157895,\n",
              "        8.10526316,  8.57894737,  9.05263158,  9.52631579, 10.        ])"
            ]
          },
          "metadata": {
            "tags": []
          },
          "execution_count": 5
        }
      ]
    },
    {
      "cell_type": "code",
      "metadata": {
        "id": "P0w4V5KylJh3",
        "colab_type": "code",
        "colab": {
          "base_uri": "https://localhost:8080/",
          "height": 35
        },
        "outputId": "d3b31e43-8a61-42c1-f952-e28fd742d148"
      },
      "source": [
        "v = np.array([0,1,2,3,4,5,6,7,8,9,10])\n",
        "type(v)"
      ],
      "execution_count": 6,
      "outputs": [
        {
          "output_type": "execute_result",
          "data": {
            "text/plain": [
              "numpy.ndarray"
            ]
          },
          "metadata": {
            "tags": []
          },
          "execution_count": 6
        }
      ]
    },
    {
      "cell_type": "code",
      "metadata": {
        "id": "yY_dabswlQAQ",
        "colab_type": "code",
        "colab": {
          "base_uri": "https://localhost:8080/",
          "height": 35
        },
        "outputId": "bf065055-4151-4518-ea74-75803088b5c0"
      },
      "source": [
        "np.shape(v)"
      ],
      "execution_count": 7,
      "outputs": [
        {
          "output_type": "execute_result",
          "data": {
            "text/plain": [
              "(11,)"
            ]
          },
          "metadata": {
            "tags": []
          },
          "execution_count": 7
        }
      ]
    },
    {
      "cell_type": "markdown",
      "metadata": {
        "id": "QqJxoStZi1Bw",
        "colab_type": "text"
      },
      "source": [
        "### Defining Matrix\n"
      ]
    },
    {
      "cell_type": "code",
      "metadata": {
        "id": "uHuQzU7Ti5pX",
        "colab_type": "code",
        "colab": {
          "base_uri": "https://localhost:8080/",
          "height": 53
        },
        "outputId": "829514dd-093e-4831-8b99-b4f505ed24db"
      },
      "source": [
        "np.arange(0,10,1).reshape(2,5)"
      ],
      "execution_count": 8,
      "outputs": [
        {
          "output_type": "execute_result",
          "data": {
            "text/plain": [
              "array([[0, 1, 2, 3, 4],\n",
              "       [5, 6, 7, 8, 9]])"
            ]
          },
          "metadata": {
            "tags": []
          },
          "execution_count": 8
        }
      ]
    },
    {
      "cell_type": "code",
      "metadata": {
        "id": "7e_MFQGtkWeY",
        "colab_type": "code",
        "colab": {
          "base_uri": "https://localhost:8080/",
          "height": 108
        },
        "outputId": "889fa98d-b824-4dd3-f7c4-e850c92bb2e7"
      },
      "source": [
        "A = np.arange(0,25).reshape(5,5)\n",
        "A"
      ],
      "execution_count": 9,
      "outputs": [
        {
          "output_type": "execute_result",
          "data": {
            "text/plain": [
              "array([[ 0,  1,  2,  3,  4],\n",
              "       [ 5,  6,  7,  8,  9],\n",
              "       [10, 11, 12, 13, 14],\n",
              "       [15, 16, 17, 18, 19],\n",
              "       [20, 21, 22, 23, 24]])"
            ]
          },
          "metadata": {
            "tags": []
          },
          "execution_count": 9
        }
      ]
    },
    {
      "cell_type": "code",
      "metadata": {
        "id": "o4Ul4GcLk0b4",
        "colab_type": "code",
        "colab": {
          "base_uri": "https://localhost:8080/",
          "height": 35
        },
        "outputId": "5a6099b1-8ed4-4f86-cdbb-fed41b8c8256"
      },
      "source": [
        "np.diag(A, 2)"
      ],
      "execution_count": 10,
      "outputs": [
        {
          "output_type": "execute_result",
          "data": {
            "text/plain": [
              "array([ 2,  8, 14])"
            ]
          },
          "metadata": {
            "tags": []
          },
          "execution_count": 10
        }
      ]
    },
    {
      "cell_type": "markdown",
      "metadata": {
        "id": "2ys0Jiluk9cf",
        "colab_type": "text"
      },
      "source": [
        "### Broadcasting"
      ]
    },
    {
      "cell_type": "code",
      "metadata": {
        "id": "Tb_aB7dWlBpo",
        "colab_type": "code",
        "colab": {
          "base_uri": "https://localhost:8080/",
          "height": 90
        },
        "outputId": "f254b2a0-d455-4248-d4c5-a16751358afd"
      },
      "source": [
        "v = np.arange(1,10,1)\n",
        "\n",
        "print(v+v)\n",
        "print(\"Difference: %s\" % str(v-v))\n",
        "print(\"Division:\" + str(v/v))\n",
        "print(f\"Multiplication: {v*v}\")"
      ],
      "execution_count": 11,
      "outputs": [
        {
          "output_type": "stream",
          "text": [
            "[ 2  4  6  8 10 12 14 16 18]\n",
            "Difference: [0 0 0 0 0 0 0 0 0]\n",
            "Division:[1. 1. 1. 1. 1. 1. 1. 1. 1.]\n",
            "Multiplication: [ 1  4  9 16 25 36 49 64 81]\n"
          ],
          "name": "stdout"
        }
      ]
    },
    {
      "cell_type": "markdown",
      "metadata": {
        "id": "Wp8uLGLYlhgA",
        "colab_type": "text"
      },
      "source": [
        "### Linear Algebra\n"
      ]
    },
    {
      "cell_type": "code",
      "metadata": {
        "id": "vQXTLJV9lme9",
        "colab_type": "code",
        "colab": {
          "base_uri": "https://localhost:8080/",
          "height": 53
        },
        "outputId": "416232e3-cdf6-4cc2-af88-f19ca40608e0"
      },
      "source": [
        "A = np.arange(0,10,1).reshape(2,5)\n",
        "v = np.arange(0,5,1)\n",
        "A, v\n",
        "np.dot(A,A)\n",
        "A @ A.T"
      ],
      "execution_count": 19,
      "outputs": [
        {
          "output_type": "execute_result",
          "data": {
            "text/plain": [
              "array([[ 30,  80],\n",
              "       [ 80, 255]])"
            ]
          },
          "metadata": {
            "tags": []
          },
          "execution_count": 19
        }
      ]
    },
    {
      "cell_type": "code",
      "metadata": {
        "id": "xJuVx4G3lxhI",
        "colab_type": "code",
        "colab": {
          "base_uri": "https://localhost:8080/",
          "height": 53
        },
        "outputId": "756f5601-4200-41ff-c609-56c556e202ff"
      },
      "source": [
        "np.linalg.inv(A @ A.T)"
      ],
      "execution_count": 23,
      "outputs": [
        {
          "output_type": "execute_result",
          "data": {
            "text/plain": [
              "array([[ 0.204, -0.064],\n",
              "       [-0.064,  0.024]])"
            ]
          },
          "metadata": {
            "tags": []
          },
          "execution_count": 23
        }
      ]
    },
    {
      "cell_type": "code",
      "metadata": {
        "id": "zR-fT8E8nfP7",
        "colab_type": "code",
        "colab": {}
      },
      "source": [
        "import random\n",
        "rows=1000\n",
        "cols=1000\n",
        "A = np.array(random.sample(list(np.arange(0,rows*cols)),rows*cols)).reshape(rows,cols)\n",
        "np.linalg.inv(A)"
      ],
      "execution_count": null,
      "outputs": []
    },
    {
      "cell_type": "code",
      "metadata": {
        "id": "ieFF3eomoO2M",
        "colab_type": "code",
        "colab": {
          "base_uri": "https://localhost:8080/",
          "height": 126
        },
        "outputId": "c2199ddd-0965-40df-96d1-0812d6dae42c"
      },
      "source": [
        ""
      ],
      "execution_count": 39,
      "outputs": [
        {
          "output_type": "execute_result",
          "data": {
            "text/plain": [
              "array([32, 28, 94, 85, 42, 57,  5, 53, 71, 82,  7, 65, 97, 39, 54, 13, 48,\n",
              "       50, 98, 15, 81,  6, 73, 20, 72, 24, 70, 90,  1, 84, 10,  9, 66, 36,\n",
              "       22, 91,  0, 56, 12, 74, 51, 55, 37, 27, 19, 64, 25, 11, 38, 58, 99,\n",
              "       95, 17, 18, 34, 86, 75,  3, 88, 77, 47, 52, 41, 33, 40, 16, 62, 26,\n",
              "       23, 96, 14, 59, 89, 45, 63, 60, 78, 69, 35, 79, 43, 87,  4,  8, 80,\n",
              "        2, 49, 29, 31, 93, 68, 21, 46, 30, 67, 61, 76, 44, 83, 92])"
            ]
          },
          "metadata": {
            "tags": []
          },
          "execution_count": 39
        }
      ]
    },
    {
      "cell_type": "markdown",
      "metadata": {
        "id": "PtmlvuQGpbfP",
        "colab_type": "text"
      },
      "source": [
        "W have two matrices with dimensions $n \\times d$ and $m \\times d$. The goal is to create a $n \\times m$ matrix with distances between every pair of vectors."
      ]
    },
    {
      "cell_type": "code",
      "metadata": {
        "id": "lNwFQzAErDr1",
        "colab_type": "code",
        "colab": {}
      },
      "source": [
        ""
      ],
      "execution_count": null,
      "outputs": []
    },
    {
      "cell_type": "code",
      "metadata": {
        "id": "b_b-s-HequvQ",
        "colab_type": "code",
        "colab": {
          "base_uri": "https://localhost:8080/",
          "height": 35
        },
        "outputId": "44c4d61e-b3f6-483e-fb4b-b18c64c2ed1f"
      },
      "source": [
        "import time\n",
        "start = time.time()\n",
        "\n",
        "\n",
        "\n",
        "end = time.time()\n",
        "print(f\"Elapsed time: {end-start}\")\n"
      ],
      "execution_count": 1,
      "outputs": [
        {
          "output_type": "stream",
          "text": [
            "Elapsed time: 2.3365020751953125e-05\n"
          ],
          "name": "stdout"
        }
      ]
    }
  ]
}