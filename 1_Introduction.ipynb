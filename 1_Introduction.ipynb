{
  "nbformat": 4,
  "nbformat_minor": 0,
  "metadata": {
    "colab": {
      "name": "1.Introduction.ipynb",
      "provenance": [],
      "toc_visible": true,
      "authorship_tag": "ABX9TyM2Ga/dKksS+4yxgwPi29Ex",
      "include_colab_link": true
    },
    "kernelspec": {
      "name": "python3",
      "display_name": "Python 3"
    }
  },
  "cells": [
    {
      "cell_type": "markdown",
      "metadata": {
        "id": "view-in-github",
        "colab_type": "text"
      },
      "source": [
        "<a href=\"https://colab.research.google.com/github/maskubica/python/blob/master/1_Introduction.ipynb\" target=\"_parent\"><img src=\"https://colab.research.google.com/assets/colab-badge.svg\" alt=\"Open In Colab\"/></a>"
      ]
    },
    {
      "cell_type": "markdown",
      "metadata": {
        "id": "wGdDTFLThZ0v",
        "colab_type": "text"
      },
      "source": [
        "\n",
        "# 1. Numpy"
      ]
    },
    {
      "cell_type": "code",
      "metadata": {
        "id": "52Vl1NI6hcm5",
        "colab_type": "code",
        "colab": {}
      },
      "source": [
        "import numpy as np"
      ],
      "execution_count": 5,
      "outputs": []
    },
    {
      "cell_type": "markdown",
      "metadata": {
        "id": "Ck4nbJKtiAvH",
        "colab_type": "text"
      },
      "source": [
        "### Defining vector\n"
      ]
    },
    {
      "cell_type": "code",
      "metadata": {
        "id": "WRbN89t_j0f4",
        "colab_type": "code",
        "colab": {
          "base_uri": "https://localhost:8080/",
          "height": 35
        },
        "outputId": "af2f908e-c8d2-4560-ac16-7640a2bb34bc"
      },
      "source": [
        "np.array([0,1,2,3,4,5,6,7,8,9,10])"
      ],
      "execution_count": 6,
      "outputs": [
        {
          "output_type": "execute_result",
          "data": {
            "text/plain": [
              "array([ 0,  1,  2,  3,  4,  5,  6,  7,  8,  9, 10])"
            ]
          },
          "metadata": {
            "tags": []
          },
          "execution_count": 6
        }
      ]
    },
    {
      "cell_type": "code",
      "metadata": {
        "id": "IyyWHV7jj3N-",
        "colab_type": "code",
        "colab": {
          "base_uri": "https://localhost:8080/",
          "height": 35
        },
        "outputId": "1000e828-2ecf-4b60-d361-cc10dec0b948"
      },
      "source": [
        "np.zeros(10)"
      ],
      "execution_count": 7,
      "outputs": [
        {
          "output_type": "execute_result",
          "data": {
            "text/plain": [
              "array([0., 0., 0., 0., 0., 0., 0., 0., 0., 0.])"
            ]
          },
          "metadata": {
            "tags": []
          },
          "execution_count": 7
        }
      ]
    },
    {
      "cell_type": "code",
      "metadata": {
        "id": "xpKDo3K4h7lq",
        "colab_type": "code",
        "colab": {
          "base_uri": "https://localhost:8080/",
          "height": 35
        },
        "outputId": "53d5cd99-f90c-4f0b-b529-33834f128da9"
      },
      "source": [
        "np.arange(0,10,step=1)"
      ],
      "execution_count": 8,
      "outputs": [
        {
          "output_type": "execute_result",
          "data": {
            "text/plain": [
              "array([0, 1, 2, 3, 4, 5, 6, 7, 8, 9])"
            ]
          },
          "metadata": {
            "tags": []
          },
          "execution_count": 8
        }
      ]
    },
    {
      "cell_type": "code",
      "metadata": {
        "id": "99u7UMdzie9n",
        "colab_type": "code",
        "colab": {
          "base_uri": "https://localhost:8080/",
          "height": 90
        },
        "outputId": "c45693cb-0b26-4208-8b12-3d4985a02b65"
      },
      "source": [
        "np.linspace(1,10,20)"
      ],
      "execution_count": 9,
      "outputs": [
        {
          "output_type": "execute_result",
          "data": {
            "text/plain": [
              "array([ 1.        ,  1.47368421,  1.94736842,  2.42105263,  2.89473684,\n",
              "        3.36842105,  3.84210526,  4.31578947,  4.78947368,  5.26315789,\n",
              "        5.73684211,  6.21052632,  6.68421053,  7.15789474,  7.63157895,\n",
              "        8.10526316,  8.57894737,  9.05263158,  9.52631579, 10.        ])"
            ]
          },
          "metadata": {
            "tags": []
          },
          "execution_count": 9
        }
      ]
    },
    {
      "cell_type": "code",
      "metadata": {
        "id": "P0w4V5KylJh3",
        "colab_type": "code",
        "colab": {
          "base_uri": "https://localhost:8080/",
          "height": 35
        },
        "outputId": "a7b3afd6-76d3-4041-aa66-847124ba1e49"
      },
      "source": [
        "v = np.array([0,1,2,3,4,5,6,7,8,9,10])\n",
        "type(v)"
      ],
      "execution_count": 10,
      "outputs": [
        {
          "output_type": "execute_result",
          "data": {
            "text/plain": [
              "numpy.ndarray"
            ]
          },
          "metadata": {
            "tags": []
          },
          "execution_count": 10
        }
      ]
    },
    {
      "cell_type": "code",
      "metadata": {
        "id": "yY_dabswlQAQ",
        "colab_type": "code",
        "colab": {
          "base_uri": "https://localhost:8080/",
          "height": 35
        },
        "outputId": "6526f956-5b06-439e-c65e-f858bb0e37ee"
      },
      "source": [
        "np.shape(v)"
      ],
      "execution_count": 11,
      "outputs": [
        {
          "output_type": "execute_result",
          "data": {
            "text/plain": [
              "(11,)"
            ]
          },
          "metadata": {
            "tags": []
          },
          "execution_count": 11
        }
      ]
    },
    {
      "cell_type": "markdown",
      "metadata": {
        "id": "QqJxoStZi1Bw",
        "colab_type": "text"
      },
      "source": [
        "### Defining Matrix\n"
      ]
    },
    {
      "cell_type": "code",
      "metadata": {
        "id": "uHuQzU7Ti5pX",
        "colab_type": "code",
        "colab": {
          "base_uri": "https://localhost:8080/",
          "height": 53
        },
        "outputId": "813c949f-a1da-4a30-dd62-3c7e255eac21"
      },
      "source": [
        "np.arange(0,10,1).reshape(2,5)"
      ],
      "execution_count": 12,
      "outputs": [
        {
          "output_type": "execute_result",
          "data": {
            "text/plain": [
              "array([[0, 1, 2, 3, 4],\n",
              "       [5, 6, 7, 8, 9]])"
            ]
          },
          "metadata": {
            "tags": []
          },
          "execution_count": 12
        }
      ]
    },
    {
      "cell_type": "code",
      "metadata": {
        "id": "7e_MFQGtkWeY",
        "colab_type": "code",
        "colab": {
          "base_uri": "https://localhost:8080/",
          "height": 108
        },
        "outputId": "fd7d6096-d028-4a09-a8e1-3b21e1deeced"
      },
      "source": [
        "A = np.arange(0,25).reshape(5,5)\n",
        "A"
      ],
      "execution_count": 13,
      "outputs": [
        {
          "output_type": "execute_result",
          "data": {
            "text/plain": [
              "array([[ 0,  1,  2,  3,  4],\n",
              "       [ 5,  6,  7,  8,  9],\n",
              "       [10, 11, 12, 13, 14],\n",
              "       [15, 16, 17, 18, 19],\n",
              "       [20, 21, 22, 23, 24]])"
            ]
          },
          "metadata": {
            "tags": []
          },
          "execution_count": 13
        }
      ]
    },
    {
      "cell_type": "code",
      "metadata": {
        "id": "o4Ul4GcLk0b4",
        "colab_type": "code",
        "colab": {
          "base_uri": "https://localhost:8080/",
          "height": 35
        },
        "outputId": "866b9db1-2026-46c8-a38c-0a953a92d6cd"
      },
      "source": [
        "np.diag(A, 2)"
      ],
      "execution_count": 14,
      "outputs": [
        {
          "output_type": "execute_result",
          "data": {
            "text/plain": [
              "array([ 2,  8, 14])"
            ]
          },
          "metadata": {
            "tags": []
          },
          "execution_count": 14
        }
      ]
    },
    {
      "cell_type": "markdown",
      "metadata": {
        "id": "2ys0Jiluk9cf",
        "colab_type": "text"
      },
      "source": [
        "### Broadcasting"
      ]
    },
    {
      "cell_type": "code",
      "metadata": {
        "id": "Tb_aB7dWlBpo",
        "colab_type": "code",
        "colab": {
          "base_uri": "https://localhost:8080/",
          "height": 90
        },
        "outputId": "20d4c246-9415-47cc-e528-259590203a20"
      },
      "source": [
        "v = np.arange(1,10,1)\n",
        "\n",
        "print(v+v)\n",
        "print(\"Difference: %s\" % str(v-v))\n",
        "print(\"Division:\" + str(v/v))\n",
        "print(f\"Multiplication: {v*v}\")"
      ],
      "execution_count": 15,
      "outputs": [
        {
          "output_type": "stream",
          "text": [
            "[ 2  4  6  8 10 12 14 16 18]\n",
            "Difference: [0 0 0 0 0 0 0 0 0]\n",
            "Division:[1. 1. 1. 1. 1. 1. 1. 1. 1.]\n",
            "Multiplication: [ 1  4  9 16 25 36 49 64 81]\n"
          ],
          "name": "stdout"
        }
      ]
    },
    {
      "cell_type": "markdown",
      "metadata": {
        "id": "Wp8uLGLYlhgA",
        "colab_type": "text"
      },
      "source": [
        "### Linear Algebra\n"
      ]
    },
    {
      "cell_type": "code",
      "metadata": {
        "id": "vQXTLJV9lme9",
        "colab_type": "code",
        "colab": {
          "base_uri": "https://localhost:8080/",
          "height": 35
        },
        "outputId": "ba43bece-7a3e-4c99-8888-fdcb183ffa3c"
      },
      "source": [
        "A = np.arange(0,10,1).reshape(2,5)\n",
        "v = np.arange(0,5,1)\n",
        "A, v\n",
        "np.dot(A,v)\n",
        "#A @ A.T"
      ],
      "execution_count": 20,
      "outputs": [
        {
          "output_type": "execute_result",
          "data": {
            "text/plain": [
              "array([30, 80])"
            ]
          },
          "metadata": {
            "tags": []
          },
          "execution_count": 20
        }
      ]
    },
    {
      "cell_type": "code",
      "metadata": {
        "id": "xJuVx4G3lxhI",
        "colab_type": "code",
        "colab": {}
      },
      "source": [
        "np.linalg.inv(A @ A.T)"
      ],
      "execution_count": null,
      "outputs": []
    },
    {
      "cell_type": "code",
      "metadata": {
        "id": "zR-fT8E8nfP7",
        "colab_type": "code",
        "colab": {}
      },
      "source": [
        "import random\n",
        "rows=1000\n",
        "cols=1000\n",
        "A = np.array(random.sample(list(np.arange(0,rows*cols)),rows*cols)).reshape(rows,cols)\n",
        "np.linalg.inv(A)"
      ],
      "execution_count": null,
      "outputs": []
    },
    {
      "cell_type": "code",
      "metadata": {
        "id": "ieFF3eomoO2M",
        "colab_type": "code",
        "colab": {}
      },
      "source": [
        ""
      ],
      "execution_count": null,
      "outputs": []
    },
    {
      "cell_type": "markdown",
      "metadata": {
        "id": "PtmlvuQGpbfP",
        "colab_type": "text"
      },
      "source": [
        "W have two matrices with dimensions $n \\times d$ and $m \\times d$. The goal is to create a $n \\times m$ matrix with distances between every pair of vectors.\n",
        "\n",
        "[Tip](https://medium.com/@souravdey/l2-distance-matrix-vectorization-trick-26aa3247ac6c)"
      ]
    },
    {
      "cell_type": "code",
      "metadata": {
        "id": "lNwFQzAErDr1",
        "colab_type": "code",
        "colab": {}
      },
      "source": [
        "n, m = 10000, 5000 \n",
        "d = 50\n",
        "\n",
        "A = np.random.rand(n,d)\n",
        "B = np.random.rand(m,d)"
      ],
      "execution_count": 108,
      "outputs": []
    },
    {
      "cell_type": "code",
      "metadata": {
        "id": "5GOcqCVh_Hs1",
        "colab_type": "code",
        "colab": {}
      },
      "source": [
        "import time\n",
        "start = time.time()\n",
        "\n",
        "\n",
        "res1 = np.zeros((n, m))\n",
        "for i in range(n):\n",
        "    for j in range(m):\n",
        "        res1[i, j] = np.sum((A[i] - B[j])**2)\n",
        "\n",
        "\n",
        "end = time.time()\n",
        "print(f\"Elapsed time: {end-start}\")\n"
      ],
      "execution_count": null,
      "outputs": []
    },
    {
      "cell_type": "code",
      "metadata": {
        "id": "3_2Pyh_s_fxY",
        "colab_type": "code",
        "colab": {}
      },
      "source": [
        "import time\n",
        "start = time.time()\n",
        "\n",
        "\n",
        "res2 = np.zeros((n, m))\n",
        "for i in range(n):\n",
        "  res2[i, :] = np.sum((B - A[i])**2, axis=1)\n",
        "\n",
        "\n",
        "end = time.time()\n",
        "print(f\"Elapsed time: {end-start}\")"
      ],
      "execution_count": null,
      "outputs": []
    },
    {
      "cell_type": "code",
      "metadata": {
        "id": "UUdnq4zsBjrQ",
        "colab_type": "code",
        "colab": {}
      },
      "source": [
        "import time\n",
        "start = time.time()\n",
        "\n",
        "res3 = -2 * np.dot(A, B.T) + np.sum(B**2, axis=1) + np.sum(A**2, axis=1)[:, np.newaxis]\n",
        "\n",
        "end = time.time()\n",
        "print(f\"Elapsed time: {end-start}\")\n"
      ],
      "execution_count": null,
      "outputs": []
    },
    {
      "cell_type": "code",
      "metadata": {
        "id": "eYpZHuEEB-nI",
        "colab_type": "code",
        "colab": {}
      },
      "source": [
        "np.sum(res2-res3)"
      ],
      "execution_count": null,
      "outputs": []
    }
  ]
}